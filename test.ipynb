{
 "cells": [
  {
   "cell_type": "code",
   "execution_count": 1,
   "metadata": {},
   "outputs": [],
   "source": [
    "from keras.models import load_model\n",
    "model=load_model('crack.h5')"
   ]
  },
  {
   "cell_type": "code",
   "execution_count": 2,
   "metadata": {},
   "outputs": [],
   "source": [
    "import cv2\n",
    "filename='Positive/00021.jpg'\n",
    "image=cv2.imread(filename)\n",
    "image.resize(75,100,3)"
   ]
  },
  {
   "cell_type": "code",
   "execution_count": 3,
   "metadata": {},
   "outputs": [
    {
     "data": {
      "text/plain": [
       "(75, 100, 3)"
      ]
     },
     "execution_count": 3,
     "metadata": {},
     "output_type": "execute_result"
    }
   ],
   "source": [
    "image.shape"
   ]
  },
  {
   "cell_type": "code",
   "execution_count": 4,
   "metadata": {},
   "outputs": [],
   "source": [
    "import numpy as np\n",
    "temp = []\n",
    "arr = np.asarray(image)\n",
    "temp.append(arr)\n",
    "mean = np.mean(temp)\n",
    "std = np.std(temp)\n",
    "test = (temp-mean)/std"
   ]
  },
  {
   "cell_type": "code",
   "execution_count": 5,
   "metadata": {},
   "outputs": [
    {
     "data": {
      "text/plain": [
       "(1, 75, 100, 3)"
      ]
     },
     "execution_count": 5,
     "metadata": {},
     "output_type": "execute_result"
    }
   ],
   "source": [
    "test.shape"
   ]
  },
  {
   "cell_type": "code",
   "execution_count": 6,
   "metadata": {},
   "outputs": [
    {
     "name": "stdout",
     "output_type": "stream",
     "text": [
      "WARNING:tensorflow:From <ipython-input-6-c076ec84059b>:1: Sequential.predict_classes (from tensorflow.python.keras.engine.sequential) is deprecated and will be removed after 2021-01-01.\n",
      "Instructions for updating:\n",
      "Please use instead:* `np.argmax(model.predict(x), axis=-1)`,   if your model does multi-class classification   (e.g. if it uses a `softmax` last-layer activation).* `(model.predict(x) > 0.5).astype(\"int32\")`,   if your model does binary classification   (e.g. if it uses a `sigmoid` last-layer activation).\n"
     ]
    }
   ],
   "source": [
    "pred = model.predict_classes(test)"
   ]
  },
  {
   "cell_type": "code",
   "execution_count": 7,
   "metadata": {},
   "outputs": [
    {
     "data": {
      "text/plain": [
       "array([[1]])"
      ]
     },
     "execution_count": 7,
     "metadata": {},
     "output_type": "execute_result"
    }
   ],
   "source": [
    "pred"
   ]
  },
  {
   "cell_type": "code",
   "execution_count": 8,
   "metadata": {},
   "outputs": [
    {
     "data": {
      "text/plain": [
       "\"\\ncv2.drawContours(img, contours, -1, (0, 255, 0), 3) \\n  \\ncv2.imshow('Contours', img)\\n\\ncv2.waitKey(0)\\ncv2.destroyAllWindows()\\n\""
      ]
     },
     "execution_count": 8,
     "metadata": {},
     "output_type": "execute_result"
    }
   ],
   "source": [
    "filename='Positive/00021.jpg'\n",
    "# read a cracked sample image\n",
    "img = cv2.imread(filename)\n",
    "\n",
    "# Convert into gray scale\n",
    "gray = cv2.cvtColor(img, cv2.COLOR_BGR2GRAY)\n",
    "cv2.imshow('gray',gray)\n",
    "\n",
    "# Find Canny edges \n",
    "edged = cv2.Canny(gray, 30, 200) \n",
    "cv2.imshow('edged',edged)\n",
    "\n",
    "\n",
    "contours, hierarchy = cv2.findContours(edged, cv2.RETR_EXTERNAL, cv2.CHAIN_APPROX_NONE) \n",
    "#cv2.imshow('Canny Edges After Contouring', edged) \n",
    "\n",
    "\"\"\"\n",
    "cv2.drawContours(img, contours, -1, (0, 255, 0), 3) \n",
    "  \n",
    "cv2.imshow('Contours', img)\n",
    "\n",
    "cv2.waitKey(0)\n",
    "cv2.destroyAllWindows()\n",
    "\"\"\""
   ]
  },
  {
   "cell_type": "code",
   "execution_count": 9,
   "metadata": {},
   "outputs": [
    {
     "data": {
      "text/plain": [
       "\"\\nfor contour, hier in zip(contours, hierarchy):\\n    (x,y,w,h) = cv2.boundingRect(contour)\\n    if w > 80 and h > 80:\\n            cv2.rectangle(img, (x,y), (x+w,y+h), (255, 0, 0), 2)\\n\\ncv2.imshow('Motion Detector',img)\\ncv2.waitKey(0)\\ncv2.destroyAllWindows()\\n\""
      ]
     },
     "execution_count": 9,
     "metadata": {},
     "output_type": "execute_result"
    }
   ],
   "source": [
    "\"\"\"\n",
    "for contour, hier in zip(contours, hierarchy):\n",
    "    (x,y,w,h) = cv2.boundingRect(contour)\n",
    "    if w > 80 and h > 80:\n",
    "            cv2.rectangle(img, (x,y), (x+w,y+h), (255, 0, 0), 2)\n",
    "\n",
    "cv2.imshow('Motion Detector',img)\n",
    "cv2.waitKey(0)\n",
    "cv2.destroyAllWindows()\n",
    "\"\"\""
   ]
  },
  {
   "cell_type": "code",
   "execution_count": 10,
   "metadata": {},
   "outputs": [
    {
     "data": {
      "text/plain": [
       "array([[[147, 152, 150],\n",
       "        [146, 151, 149],\n",
       "        [147, 150, 148],\n",
       "        ...,\n",
       "        [144, 145, 143],\n",
       "        [142, 143, 141],\n",
       "        [140, 141, 139]],\n",
       "\n",
       "       [[146, 151, 149],\n",
       "        [145, 150, 148],\n",
       "        [146, 149, 147],\n",
       "        ...,\n",
       "        [146, 147, 145],\n",
       "        [144, 145, 143],\n",
       "        [142, 143, 141]],\n",
       "\n",
       "       [[145, 150, 148],\n",
       "        [144, 149, 147],\n",
       "        [145, 148, 146],\n",
       "        ...,\n",
       "        [147, 148, 146],\n",
       "        [145, 146, 144],\n",
       "        [143, 144, 142]],\n",
       "\n",
       "       ...,\n",
       "\n",
       "       [[154, 155, 151],\n",
       "        [154, 155, 151],\n",
       "        [155, 156, 152],\n",
       "        ...,\n",
       "        [157, 156, 152],\n",
       "        [156, 155, 151],\n",
       "        [155, 154, 150]],\n",
       "\n",
       "       [[154, 155, 151],\n",
       "        [154, 155, 151],\n",
       "        [155, 156, 152],\n",
       "        ...,\n",
       "        [157, 156, 152],\n",
       "        [156, 155, 151],\n",
       "        [155, 154, 150]],\n",
       "\n",
       "       [[154, 155, 151],\n",
       "        [154, 155, 151],\n",
       "        [155, 156, 152],\n",
       "        ...,\n",
       "        [157, 156, 152],\n",
       "        [156, 155, 151],\n",
       "        [155, 154, 150]]], dtype=uint8)"
      ]
     },
     "execution_count": 10,
     "metadata": {},
     "output_type": "execute_result"
    }
   ],
   "source": [
    "boxes = []\n",
    "for c in contours:\n",
    "    (x, y, w, h) = cv2.boundingRect(c)\n",
    "    boxes.append([x,y, x+w,y+h])\n",
    "\n",
    "boxes = np.asarray(boxes)\n",
    "left, top = np.min(boxes, axis=0)[:2]\n",
    "right, bottom = np.max(boxes, axis=0)[2:]\n",
    "\n",
    "cv2.rectangle(img, (left,top), (right,bottom), (255, 0, 0), 2)"
   ]
  },
  {
   "cell_type": "code",
   "execution_count": null,
   "metadata": {},
   "outputs": [],
   "source": [
    "cv2.imshow('final',img)\n",
    "cv2.waitKey(0)\n",
    "cv2.destroyAllWindows() "
   ]
  },
  {
   "cell_type": "code",
   "execution_count": null,
   "metadata": {},
   "outputs": [],
   "source": []
  }
 ],
 "metadata": {
  "kernelspec": {
   "display_name": "Python 3",
   "language": "python",
   "name": "python3"
  },
  "language_info": {
   "codemirror_mode": {
    "name": "ipython",
    "version": 3
   },
   "file_extension": ".py",
   "mimetype": "text/x-python",
   "name": "python",
   "nbconvert_exporter": "python",
   "pygments_lexer": "ipython3",
   "version": "3.7.7"
  }
 },
 "nbformat": 4,
 "nbformat_minor": 4
}
