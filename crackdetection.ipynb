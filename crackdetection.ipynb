{
 "cells": [
  {
   "cell_type": "markdown",
   "metadata": {},
   "source": [
    "### Required Libraries"
   ]
  },
  {
   "cell_type": "code",
   "execution_count": 1,
   "metadata": {
    "_cell_guid": "b1076dfc-b9ad-4769-8c92-a6c4dae69d19",
    "_uuid": "8f2839f25d086af736a60e9eeb907d3b93b6e0e5"
   },
   "outputs": [
    {
     "name": "stderr",
     "output_type": "stream",
     "text": [
      "Using TensorFlow backend.\n"
     ]
    }
   ],
   "source": [
    "import numpy as np\n",
    "import pandas as pd\n",
    "import matplotlib.pyplot as plt\n",
    "%matplotlib inline\n",
    "\n",
    "import os\n",
    "import itertools\n",
    "from glob import glob\n",
    "from PIL import Image\n",
    "\n",
    "from sklearn.metrics import confusion_matrix\n",
    "from sklearn.model_selection import train_test_split\n",
    "\n",
    "from keras.models import Sequential\n",
    "from keras.layers import Dense, Dropout, Flatten, Conv2D, MaxPool2D\n",
    "from keras.layers.normalization import BatchNormalization"
   ]
  },
  {
   "cell_type": "markdown",
   "metadata": {},
   "source": [
    "### Data Set "
   ]
  },
  {
   "cell_type": "code",
   "execution_count": 2,
   "metadata": {},
   "outputs": [],
   "source": [
    "base_crack_Negative = \"Negative\"\n",
    "base_crack_Positive = \"Positive\""
   ]
  },
  {
   "cell_type": "code",
   "execution_count": 3,
   "metadata": {},
   "outputs": [],
   "source": [
    "crack_Negative_df = pd.DataFrame(columns=( 'path', 'image', 'label'),index=np.arange(0,20000))\n",
    "crack_Positive_df = pd.DataFrame(columns=( 'path', 'image', 'label'),index=np.arange(0,20000))"
   ]
  },
  {
   "cell_type": "code",
   "execution_count": 4,
   "metadata": {},
   "outputs": [],
   "source": [
    "imageid_path_dict_Negative = np.array([x for x in glob(os.path.join(base_crack_Negative, '*.jpg'))])\n",
    "imageid_path_dict_Positive = np.array([x for x in glob(os.path.join(base_crack_Positive, '*.jpg'))])"
   ]
  },
  {
   "cell_type": "code",
   "execution_count": 5,
   "metadata": {
    "collapsed": true
   },
   "outputs": [
    {
     "name": "stdout",
     "output_type": "stream",
     "text": [
      "Negative: (100, 75, 3)\n",
      "Positive: (100, 75, 3)\n",
      "(20000,) (20000,)\n"
     ]
    }
   ],
   "source": [
    "crack_Negative_df['path']=imageid_path_dict_Negative\n",
    "crack_Negative_df['label']=0\n",
    "crack_Negative_df['image']=crack_Negative_df['path'].map(lambda x: np.asarray(Image.open(x).resize((75,100))))\n",
    "\n",
    "crack_Positive_df['path']=imageid_path_dict_Positive\n",
    "crack_Positive_df['label']=1\n",
    "crack_Positive_df['image']=crack_Positive_df['path'].map(lambda x: np.asarray(Image.open(x).resize((75,100))))\n",
    "\n",
    "print(\"Negative:\",crack_Negative_df[\"image\"][0].shape)\n",
    "print(\"Positive:\",crack_Positive_df[\"image\"][0].shape)\n",
    "\n",
    "print(imageid_path_dict_Negative.shape,imageid_path_dict_Positive.shape)"
   ]
  },
  {
   "cell_type": "code",
   "execution_count": 6,
   "metadata": {
    "collapsed": true
   },
   "outputs": [
    {
     "name": "stdout",
     "output_type": "stream",
     "text": [
      "(40000, 3)\n"
     ]
    }
   ],
   "source": [
    "crack_df = crack_Negative_df.append(crack_Positive_df)\n",
    "crack_df.reset_index(drop=True,inplace=True)\n",
    "print(crack_df.shape)"
   ]
  },
  {
   "cell_type": "markdown",
   "metadata": {},
   "source": [
    "### Feature Selection"
   ]
  },
  {
   "cell_type": "code",
   "execution_count": 7,
   "metadata": {},
   "outputs": [],
   "source": [
    "features=crack_df.drop(columns=['label'],axis=1)\n",
    "target=crack_df[\"label\"]"
   ]
  },
  {
   "cell_type": "markdown",
   "metadata": {},
   "source": [
    "#### SPLITTING DATA SET \n",
    "#### Training & Testing :"
   ]
  },
  {
   "cell_type": "code",
   "execution_count": 8,
   "metadata": {},
   "outputs": [],
   "source": [
    "x_train_o, x_test_o, y_train, y_test = train_test_split(features, target, test_size=0.20,random_state=1234)"
   ]
  },
  {
   "cell_type": "code",
   "execution_count": 9,
   "metadata": {},
   "outputs": [],
   "source": [
    "x_train = np.asarray(x_train_o['image'].tolist())\n",
    "x_test = np.asarray(x_test_o['image'].tolist())\n",
    "\n",
    "x_train_mean = np.mean(x_train)\n",
    "x_train_std = np.std(x_train)\n",
    "\n",
    "x_test_mean = np.mean(x_test)\n",
    "x_test_std = np.std(x_test)\n",
    "\n",
    "x_train = (x_train - x_train_mean)/x_train_std\n",
    "x_test = (x_test - x_test_mean)/x_test_std"
   ]
  },
  {
   "cell_type": "code",
   "execution_count": 10,
   "metadata": {},
   "outputs": [],
   "source": [
    "x_train = x_train.reshape(x_train.shape[0], *(75, 100, 3))\n",
    "x_test = x_test.reshape(x_test.shape[0], *(75, 100, 3))"
   ]
  },
  {
   "cell_type": "markdown",
   "metadata": {},
   "source": [
    "### Modelling the Data"
   ]
  },
  {
   "cell_type": "code",
   "execution_count": 11,
   "metadata": {
    "collapsed": true
   },
   "outputs": [
    {
     "name": "stdout",
     "output_type": "stream",
     "text": [
      "Model: \"sequential_1\"\n",
      "_________________________________________________________________\n",
      "Layer (type)                 Output Shape              Param #   \n",
      "=================================================================\n",
      "conv2d_1 (Conv2D)            (None, 75, 100, 32)       896       \n",
      "_________________________________________________________________\n",
      "conv2d_2 (Conv2D)            (None, 75, 100, 32)       9248      \n",
      "_________________________________________________________________\n",
      "max_pooling2d_1 (MaxPooling2 (None, 37, 50, 32)        0         \n",
      "_________________________________________________________________\n",
      "dropout_1 (Dropout)          (None, 37, 50, 32)        0         \n",
      "_________________________________________________________________\n",
      "conv2d_3 (Conv2D)            (None, 37, 50, 64)        18496     \n",
      "_________________________________________________________________\n",
      "conv2d_4 (Conv2D)            (None, 37, 50, 64)        36928     \n",
      "_________________________________________________________________\n",
      "max_pooling2d_2 (MaxPooling2 (None, 18, 25, 64)        0         \n",
      "_________________________________________________________________\n",
      "dropout_2 (Dropout)          (None, 18, 25, 64)        0         \n",
      "_________________________________________________________________\n",
      "flatten_1 (Flatten)          (None, 28800)             0         \n",
      "_________________________________________________________________\n",
      "dense_1 (Dense)              (None, 128)               3686528   \n",
      "_________________________________________________________________\n",
      "dropout_3 (Dropout)          (None, 128)               0         \n",
      "_________________________________________________________________\n",
      "dense_2 (Dense)              (None, 1)                 129       \n",
      "=================================================================\n",
      "Total params: 3,752,225\n",
      "Trainable params: 3,752,225\n",
      "Non-trainable params: 0\n",
      "_________________________________________________________________\n"
     ]
    }
   ],
   "source": [
    "input_shape = (75, 100, 3)\n",
    "\n",
    "model = Sequential()\n",
    "model.add(Conv2D(32, kernel_size=(3, 3),activation='relu',padding = 'Same',input_shape=input_shape))\n",
    "model.add(Conv2D(32,kernel_size=(3, 3), activation='relu',padding = 'Same',))\n",
    "model.add(MaxPool2D(pool_size = (2, 2)))\n",
    "model.add(Dropout(0.25))\n",
    "\n",
    "model.add(Conv2D(64, (3, 3), activation='relu',padding = 'Same'))\n",
    "model.add(Conv2D(64, (3, 3), activation='relu',padding = 'Same'))\n",
    "model.add(MaxPool2D(pool_size=(2, 2)))\n",
    "model.add(Dropout(0.40))\n",
    "\n",
    "model.add(Flatten())\n",
    "model.add(Dense(128, activation='relu'))\n",
    "model.add(Dropout(0.5))\n",
    "model.add(Dense(1, activation='sigmoid'))\n",
    "model.summary()"
   ]
  },
  {
   "cell_type": "code",
   "execution_count": 12,
   "metadata": {
    "collapsed": true
   },
   "outputs": [
    {
     "name": "stdout",
     "output_type": "stream",
     "text": [
      "Train on 28800 samples, validate on 3200 samples\n",
      "Epoch 1/50\n",
      "28800/28800 [==============================] - 18s 641us/step - loss: 0.2493 - accuracy: 0.8996 - val_loss: 0.0255 - val_accuracy: 0.9928\n",
      "Epoch 2/50\n",
      "28800/28800 [==============================] - 13s 442us/step - loss: 0.0244 - accuracy: 0.9924 - val_loss: 0.0203 - val_accuracy: 0.9937\n",
      "Epoch 3/50\n",
      "28800/28800 [==============================] - 13s 441us/step - loss: 0.0151 - accuracy: 0.9955 - val_loss: 0.0113 - val_accuracy: 0.9962\n",
      "Epoch 4/50\n",
      "28800/28800 [==============================] - 13s 451us/step - loss: 0.0136 - accuracy: 0.9959 - val_loss: 0.0108 - val_accuracy: 0.9966\n",
      "Epoch 5/50\n",
      "28800/28800 [==============================] - 13s 440us/step - loss: 0.0142 - accuracy: 0.9959 - val_loss: 0.0189 - val_accuracy: 0.9944\n",
      "Epoch 6/50\n",
      "28800/28800 [==============================] - 13s 440us/step - loss: 0.0115 - accuracy: 0.9967 - val_loss: 0.0173 - val_accuracy: 0.9962\n",
      "Epoch 7/50\n",
      "28800/28800 [==============================] - 13s 446us/step - loss: 0.0106 - accuracy: 0.9967 - val_loss: 0.0092 - val_accuracy: 0.9978\n",
      "Epoch 8/50\n",
      "28800/28800 [==============================] - 13s 449us/step - loss: 0.0101 - accuracy: 0.9973 - val_loss: 0.0124 - val_accuracy: 0.9962\n",
      "Epoch 9/50\n",
      "28800/28800 [==============================] - 13s 448us/step - loss: 0.0072 - accuracy: 0.9979 - val_loss: 0.0122 - val_accuracy: 0.9962\n",
      "Epoch 10/50\n",
      "28800/28800 [==============================] - 13s 441us/step - loss: 0.0138 - accuracy: 0.9963 - val_loss: 0.0164 - val_accuracy: 0.9956\n",
      "Epoch 11/50\n",
      "28800/28800 [==============================] - 13s 443us/step - loss: 0.0111 - accuracy: 0.9969 - val_loss: 0.0125 - val_accuracy: 0.9966\n",
      "Epoch 12/50\n",
      "28800/28800 [==============================] - 13s 440us/step - loss: 0.0073 - accuracy: 0.9979 - val_loss: 0.0092 - val_accuracy: 0.9975\n",
      "Epoch 13/50\n",
      "28800/28800 [==============================] - 13s 449us/step - loss: 0.0066 - accuracy: 0.9978 - val_loss: 0.0102 - val_accuracy: 0.9962\n",
      "Epoch 14/50\n",
      "28800/28800 [==============================] - 13s 444us/step - loss: 0.0053 - accuracy: 0.9984 - val_loss: 0.0126 - val_accuracy: 0.9975\n",
      "Epoch 15/50\n",
      "28800/28800 [==============================] - 13s 444us/step - loss: 0.0056 - accuracy: 0.9983 - val_loss: 0.0115 - val_accuracy: 0.9969\n",
      "Epoch 16/50\n",
      "28800/28800 [==============================] - 13s 441us/step - loss: 0.0039 - accuracy: 0.9987 - val_loss: 0.0097 - val_accuracy: 0.9969\n",
      "Epoch 17/50\n",
      "28800/28800 [==============================] - 13s 440us/step - loss: 0.0057 - accuracy: 0.9981 - val_loss: 0.0088 - val_accuracy: 0.9978\n",
      "Epoch 18/50\n",
      "28800/28800 [==============================] - 13s 451us/step - loss: 0.0035 - accuracy: 0.9988 - val_loss: 0.0107 - val_accuracy: 0.9984\n",
      "Epoch 19/50\n",
      "28800/28800 [==============================] - 13s 448us/step - loss: 0.0025 - accuracy: 0.9994 - val_loss: 0.0156 - val_accuracy: 0.9956\n",
      "Epoch 20/50\n",
      "28800/28800 [==============================] - 13s 439us/step - loss: 0.0021 - accuracy: 0.9995 - val_loss: 0.0144 - val_accuracy: 0.9956\n",
      "Epoch 21/50\n",
      "28800/28800 [==============================] - 13s 446us/step - loss: 0.0058 - accuracy: 0.9984 - val_loss: 0.0189 - val_accuracy: 0.9947\n",
      "Epoch 22/50\n",
      "28800/28800 [==============================] - 13s 445us/step - loss: 0.0030 - accuracy: 0.9990 - val_loss: 0.0094 - val_accuracy: 0.9981\n",
      "Epoch 23/50\n",
      "28800/28800 [==============================] - 13s 448us/step - loss: 0.0029 - accuracy: 0.9991 - val_loss: 0.0060 - val_accuracy: 0.9987\n",
      "Epoch 24/50\n",
      "28800/28800 [==============================] - 13s 444us/step - loss: 0.0016 - accuracy: 0.9996 - val_loss: 0.0086 - val_accuracy: 0.9975\n",
      "Epoch 25/50\n",
      "28800/28800 [==============================] - 13s 443us/step - loss: 0.0019 - accuracy: 0.9994 - val_loss: 0.0094 - val_accuracy: 0.9981\n",
      "Epoch 26/50\n",
      "28800/28800 [==============================] - 13s 444us/step - loss: 0.0011 - accuracy: 0.9997 - val_loss: 0.0117 - val_accuracy: 0.9975\n",
      "Epoch 27/50\n",
      "28800/28800 [==============================] - 13s 449us/step - loss: 0.0014 - accuracy: 0.9995 - val_loss: 0.0117 - val_accuracy: 0.9975\n",
      "Epoch 28/50\n",
      "28800/28800 [==============================] - 13s 441us/step - loss: 0.0063 - accuracy: 0.9980 - val_loss: 0.0086 - val_accuracy: 0.9978\n",
      "Epoch 29/50\n",
      "28800/28800 [==============================] - 13s 442us/step - loss: 0.0029 - accuracy: 0.9989 - val_loss: 0.0100 - val_accuracy: 0.9978\n",
      "Epoch 30/50\n",
      "28800/28800 [==============================] - 13s 439us/step - loss: 0.0012 - accuracy: 0.9995 - val_loss: 0.0092 - val_accuracy: 0.9984\n",
      "Epoch 31/50\n",
      "28800/28800 [==============================] - 13s 449us/step - loss: 6.2072e-04 - accuracy: 0.9998 - val_loss: 0.0105 - val_accuracy: 0.9981\n",
      "Epoch 32/50\n",
      "28800/28800 [==============================] - 13s 455us/step - loss: 4.5123e-04 - accuracy: 0.9999 - val_loss: 0.0118 - val_accuracy: 0.9981\n",
      "Epoch 33/50\n",
      "28800/28800 [==============================] - 13s 442us/step - loss: 0.0047 - accuracy: 0.9986 - val_loss: 0.0077 - val_accuracy: 0.9984\n",
      "Epoch 34/50\n",
      "28800/28800 [==============================] - 13s 440us/step - loss: 0.0033 - accuracy: 0.9989 - val_loss: 0.0160 - val_accuracy: 0.9959\n",
      "Epoch 35/50\n",
      "28800/28800 [==============================] - 13s 442us/step - loss: 0.0023 - accuracy: 0.9991 - val_loss: 0.0147 - val_accuracy: 0.9956\n",
      "Epoch 36/50\n",
      "28800/28800 [==============================] - 13s 445us/step - loss: 9.1578e-04 - accuracy: 0.9998 - val_loss: 0.0087 - val_accuracy: 0.9978\n",
      "Epoch 37/50\n",
      "28800/28800 [==============================] - 13s 446us/step - loss: 0.0029 - accuracy: 0.9989 - val_loss: 0.0155 - val_accuracy: 0.9956\n",
      "Epoch 38/50\n",
      "28800/28800 [==============================] - 13s 442us/step - loss: 0.0022 - accuracy: 0.9994 - val_loss: 0.0181 - val_accuracy: 0.9969\n",
      "Epoch 39/50\n",
      "28800/28800 [==============================] - 13s 443us/step - loss: 8.4614e-04 - accuracy: 0.9997 - val_loss: 0.0212 - val_accuracy: 0.9962\n",
      "Epoch 40/50\n",
      "28800/28800 [==============================] - 13s 438us/step - loss: 0.0015 - accuracy: 0.9996 - val_loss: 0.0123 - val_accuracy: 0.9975\n",
      "Epoch 41/50\n",
      "28800/28800 [==============================] - 13s 453us/step - loss: 0.0019 - accuracy: 0.9992 - val_loss: 0.0128 - val_accuracy: 0.9975\n",
      "Epoch 42/50\n",
      "28800/28800 [==============================] - 13s 439us/step - loss: 9.7514e-04 - accuracy: 0.9996 - val_loss: 0.0159 - val_accuracy: 0.9972\n",
      "Epoch 43/50\n",
      "28800/28800 [==============================] - 13s 443us/step - loss: 0.0014 - accuracy: 0.9994 - val_loss: 0.0135 - val_accuracy: 0.9972\n",
      "Epoch 44/50\n",
      "28800/28800 [==============================] - 13s 440us/step - loss: 0.0029 - accuracy: 0.9990 - val_loss: 0.0109 - val_accuracy: 0.9981\n",
      "Epoch 45/50\n",
      "28800/28800 [==============================] - 13s 443us/step - loss: 8.4864e-04 - accuracy: 0.9998 - val_loss: 0.0118 - val_accuracy: 0.9981\n",
      "Epoch 46/50\n",
      "28800/28800 [==============================] - 13s 452us/step - loss: 0.0013 - accuracy: 0.9996 - val_loss: 0.0138 - val_accuracy: 0.9978\n",
      "Epoch 47/50\n",
      "28800/28800 [==============================] - 13s 440us/step - loss: 5.1145e-04 - accuracy: 0.9998 - val_loss: 0.0157 - val_accuracy: 0.9981\n",
      "Epoch 48/50\n",
      "28800/28800 [==============================] - 13s 440us/step - loss: 9.9202e-04 - accuracy: 0.9997 - val_loss: 0.0173 - val_accuracy: 0.9984\n",
      "Epoch 49/50\n",
      "28800/28800 [==============================] - 13s 440us/step - loss: 0.0018 - accuracy: 0.9997 - val_loss: 0.0104 - val_accuracy: 0.9972\n",
      "Epoch 50/50\n",
      "28800/28800 [==============================] - 13s 437us/step - loss: 0.0018 - accuracy: 0.9994 - val_loss: 0.0093 - val_accuracy: 0.9978\n"
     ]
    },
    {
     "data": {
      "text/plain": [
       "<keras.callbacks.callbacks.History at 0x7f90180fff60>"
      ]
     },
     "execution_count": 12,
     "metadata": {},
     "output_type": "execute_result"
    }
   ],
   "source": [
    "model.compile(optimizer='adam',loss='binary_crossentropy',metrics=['accuracy'])\n",
    "model.fit(x_train, y_train, validation_split=0.1,epochs=50, batch_size=256)"
   ]
  },
  {
   "cell_type": "markdown",
   "metadata": {},
   "source": [
    "### Model History"
   ]
  },
  {
   "cell_type": "code",
   "execution_count": 13,
   "metadata": {
    "collapsed": true
   },
   "outputs": [
    {
     "name": "stdout",
     "output_type": "stream",
     "text": [
      "{'val_loss': [0.02549173843115568, 0.020275045055896043, 0.011337121985852718, 0.010760508948005737, 0.018919749092310666, 0.017333726985380053, 0.009178359845536761, 0.01239037443883717, 0.012245878436369822, 0.01642956003546715, 0.012480731920804828, 0.00918916193768382, 0.010159960552118718, 0.012627802902134135, 0.011461173298303038, 0.00973025277358829, 0.008835407116566784, 0.010722199187002844, 0.01560963898897171, 0.014443251125048845, 0.01888338431250304, 0.009420896310766693, 0.00600153765786672, 0.008632907873252407, 0.00936655428386075, 0.011654314035840798, 0.011705733697599498, 0.008599895238003228, 0.009986802088242257, 0.009222389764354376, 0.010450890924112173, 0.011794883536276756, 0.007670496004866436, 0.01595095805125311, 0.014651028792577563, 0.008709076300419838, 0.015536422310397029, 0.018089866974551113, 0.021178657065029256, 0.012264336131120218, 0.012801302355219377, 0.015912554962706053, 0.013529427430185023, 0.010947590065261465, 0.011762899515688333, 0.013803596515208483, 0.01570213155086094, 0.017253411386227525, 0.010379010739561635, 0.00926789827644825], 'val_accuracy': [0.9928125143051147, 0.9937499761581421, 0.9962499737739563, 0.9965624809265137, 0.9943749904632568, 0.9962499737739563, 0.9978125095367432, 0.9962499737739563, 0.9962499737739563, 0.9956250190734863, 0.9965624809265137, 0.9975000023841858, 0.9962499737739563, 0.9975000023841858, 0.996874988079071, 0.996874988079071, 0.9978125095367432, 0.9984375238418579, 0.9956250190734863, 0.9956250190734863, 0.9946874976158142, 0.9981250166893005, 0.9987499713897705, 0.9975000023841858, 0.9981250166893005, 0.9975000023841858, 0.9975000023841858, 0.9978125095367432, 0.9978125095367432, 0.9984375238418579, 0.9981250166893005, 0.9981250166893005, 0.9984375238418579, 0.9959375262260437, 0.9956250190734863, 0.9978125095367432, 0.9956250190734863, 0.996874988079071, 0.9962499737739563, 0.9975000023841858, 0.9975000023841858, 0.9971874952316284, 0.9971874952316284, 0.9981250166893005, 0.9981250166893005, 0.9978125095367432, 0.9981250166893005, 0.9984375238418579, 0.9971874952316284, 0.9978125095367432], 'loss': [0.24928732877390253, 0.02443221509249674, 0.015052561111127337, 0.013592004362079833, 0.014174971588266392, 0.011468543166087733, 0.010614661468296415, 0.010051475612757106, 0.0072174606781401154, 0.013766125197548213, 0.011103240337429775, 0.00732374216378149, 0.006557308155008488, 0.005253643494927221, 0.0056061207421589645, 0.0039413724125026625, 0.005718571051192056, 0.003479939815782321, 0.0024941589234286866, 0.0020614067927171064, 0.005772783095162595, 0.002960345663078543, 0.002920001372080555, 0.0016438336658070006, 0.0019201722906826842, 0.0010979204180229217, 0.0014195336670592142, 0.006321759579384687, 0.002875741177623341, 0.0012424562459616734, 0.0006207154855403334, 0.000451225496470013, 0.004680783720081965, 0.003273460308895058, 0.002331303621394909, 0.0009157771186639568, 0.002941711048458981, 0.0021741700370492053, 0.0008461355316628922, 0.0014722778103269875, 0.0019128293427375966, 0.0009751380814830352, 0.001445813328959452, 0.0028867897568256415, 0.0008486407608426007, 0.0012579190345170194, 0.0005114483616378291, 0.0009920162751187592, 0.0018440713604235901, 0.0018074297303206145], 'accuracy': [0.89958334, 0.9923958, 0.99548614, 0.9959375, 0.9959375, 0.99670136, 0.99666667, 0.9972917, 0.99788195, 0.9962847, 0.99690974, 0.99791664, 0.9978472, 0.9984375, 0.9982639, 0.99868053, 0.99809027, 0.9987847, 0.99940974, 0.99951386, 0.9984028, 0.99899304, 0.9990972, 0.99961805, 0.999375, 0.99972224, 0.9994792, 0.9980208, 0.99885416, 0.99951386, 0.9997917, 0.9998611, 0.9986111, 0.9989236, 0.9990625, 0.99975693, 0.9988889, 0.99940974, 0.99972224, 0.9995833, 0.99916667, 0.99961805, 0.9994444, 0.9990278, 0.9997917, 0.9995833, 0.99975693, 0.99972224, 0.9996528, 0.9994444]}\n"
     ]
    }
   ],
   "source": [
    "history = model.history\n",
    "print(history.history)"
   ]
  },
  {
   "cell_type": "code",
   "execution_count": 14,
   "metadata": {
    "collapsed": true
   },
   "outputs": [
    {
     "data": {
      "image/png": "[encoded data removed]",
      "text/plain": [
       "<Figure size 432x288 with 1 Axes>"
      ]
     },
     "metadata": {
      "needs_background": "light"
     },
     "output_type": "display_data"
    }
   ],
   "source": [
    "fig, ax = plt.subplots()\n",
    "\n",
    "ax.plot(history.history['accuracy'],label='training accuracy')\n",
    "ax.plot(history.history['val_accuracy'],label='val accuracy')\n",
    "\n",
    "ax.set_title('model accuracy',{'size':16})\n",
    "ax.set_xlabel('epoch',{'size':16})\n",
    "ax.set_ylabel('accuracy',{'size':16})\n",
    "              \n",
    "plt.tick_params(labelsize=14)\n",
    "plt.legend(loc='lower right')\n",
    "plt.tight_layout()\n",
    "plt.show()"
   ]
  },
  {
   "cell_type": "code",
   "execution_count": 15,
   "metadata": {
    "collapsed": true
   },
   "outputs": [
    {
     "data": {
      "image/png": "[encoded data removed]",
      "text/plain": [
       "<Figure size 432x288 with 1 Axes>"
      ]
     },
     "metadata": {
      "needs_background": "light"
     },
     "output_type": "display_data"
    }
   ],
   "source": [
    "fig, ax = plt.subplots()\n",
    "\n",
    "ax.plot(history.history['loss'],label='training loss')\n",
    "ax.plot(history.history['val_loss'],label='val loss')\n",
    "\n",
    "ax.set_title('model loss',{'size':16})\n",
    "ax.set_xlabel('epoch',{'size':16})\n",
    "ax.set_ylabel('loss',{'size':16})\n",
    "              \n",
    "plt.tick_params(labelsize=14)\n",
    "plt.legend(loc='upper right')\n",
    "plt.tight_layout()\n",
    "plt.show()"
   ]
  },
  {
   "cell_type": "markdown",
   "metadata": {},
   "source": [
    "### METRICS"
   ]
  },
  {
   "cell_type": "code",
   "execution_count": 16,
   "metadata": {
    "collapsed": true
   },
   "outputs": [
    {
     "name": "stdout",
     "output_type": "stream",
     "text": [
      "confusion_matrix\n",
      " [[3949   12]\n",
      " [  16 4023]]\n",
      "accuracy:0.9965\n",
      "precision:0.9970260223048327\n",
      "recall:0.9960386234216391\n",
      "f1-score:0.9965320782759475\n"
     ]
    },
    {
     "data": {
      "text/plain": [
       "Text(33.0, 0.5, 'True')"
      ]
     },
     "execution_count": 16,
     "metadata": {},
     "output_type": "execute_result"
    },
    {
     "data": {
      "image/png": "[encoded data removed]",
      "text/plain": [
       "<Figure size 432x288 with 2 Axes>"
      ]
     },
     "metadata": {
      "needs_background": "light"
     },
     "output_type": "display_data"
    }
   ],
   "source": [
    "from sklearn.preprocessing import label_binarize\n",
    "from sklearn.metrics import confusion_matrix, precision_score, accuracy_score,recall_score, f1_score,roc_auc_score\n",
    "\n",
    "y_score = model.predict_classes(x_test)\n",
    "y_score_1 = model.predict(x_test)\n",
    "\n",
    "import seaborn as sns\n",
    "%matplotlib inline\n",
    "cm = confusion_matrix(y_test, y_score)\n",
    "print('confusion_matrix\\n', cm)\n",
    "\n",
    "print('accuracy:{}'.format(accuracy_score(y_test, y_score)))\n",
    "print('precision:{}'.format(precision_score(y_test, y_score)))\n",
    "print('recall:{}'.format(recall_score(y_test, y_score)))\n",
    "print('f1-score:{}'.format(f1_score(y_test, y_score)))\n",
    "\n",
    "f,ax=plt.subplots()\n",
    "sns.heatmap(cm,annot=True,ax=ax,fmt='.4g') \n",
    "\n",
    "ax.set_title('confusion matrix',fontsize=16) \n",
    "ax.set_xlabel('Predict',fontsize=16) \n",
    "ax.set_ylabel('True',fontsize=16) "
   ]
  },
  {
   "cell_type": "code",
   "execution_count": 17,
   "metadata": {
    "collapsed": true
   },
   "outputs": [
    {
     "data": {
      "image/png": "[encoded data removed]",
      "text/plain": [
       "<Figure size 360x316.8 with 1 Axes>"
      ]
     },
     "metadata": {
      "needs_background": "light"
     },
     "output_type": "display_data"
    }
   ],
   "source": [
    "from sklearn.metrics import roc_curve\n",
    "import matplotlib.pyplot as plt\n",
    "%matplotlib inline\n",
    "\n",
    "fig, ax = plt.subplots(figsize=(5, 4.4))\n",
    "\n",
    "auc = roc_auc_score(y_test,y_score_1)\n",
    "\n",
    "fpr, tpr, thresholds = roc_curve(y_test,y_score_1)   \n",
    "ax.plot(fpr, tpr, linewidth = 2,label='AUC=%.4f' % auc)\n",
    "ax.plot([0,1],[0,1], 'k--')\n",
    "\n",
    "ax.set_xlim(0, 1)\n",
    "ax.set_ylim(0, 1)\n",
    "ax.set_xlabel('False Postivie Rate',{'size':16})\n",
    "ax.set_ylabel('True Positive Rate',{'size':16})\n",
    "\n",
    "ax.plot([0,1],[0,1], 'k--',lw=2)\n",
    "\n",
    "plt.tick_params(labelsize=14)\n",
    "\n",
    "plt.legend()\n",
    "plt.tight_layout()\n",
    "plt.show()"
   ]
  },
  {
   "cell_type": "code",
   "execution_count": 18,
   "metadata": {
    "collapsed": true
   },
   "outputs": [
    {
     "data": {
      "text/plain": [
       "array([[1.0000000e+00],\n",
       "       [1.8286705e-04],\n",
       "       [2.5331974e-06],\n",
       "       ...,\n",
       "       [5.0663948e-07],\n",
       "       [3.5762787e-07],\n",
       "       [1.0000000e+00]], dtype=float32)"
      ]
     },
     "execution_count": 18,
     "metadata": {},
     "output_type": "execute_result"
    }
   ],
   "source": [
    "y_score_1"
   ]
  },
  {
   "cell_type": "code",
   "execution_count": 19,
   "metadata": {},
   "outputs": [],
   "source": [
    "model.save('crack.h5')"
   ]
  }
 ],
 "metadata": {
  "kernelspec": {
   "display_name": "Python 3",
   "language": "python",
   "name": "python3"
  },
  "language_info": {
   "codemirror_mode": {
    "name": "ipython",
    "version": 3
   },
   "file_extension": ".py",
   "mimetype": "text/x-python",
   "name": "python",
   "nbconvert_exporter": "python",
   "pygments_lexer": "ipython3",
   "version": "3.7.7"
  }
 },
 "nbformat": 4,
 "nbformat_minor": 1
}
